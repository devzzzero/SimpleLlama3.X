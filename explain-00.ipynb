{
 "cells": [
  {
   "cell_type": "markdown",
   "id": "39355787-60ea-46a5-9d60-5d8f73d643bf",
   "metadata": {},
   "source": [
    "#  Requirements\n",
    "## You'll probably want to install NVIDIA drivers on your machine (if you have an NVIDIA GPU)\n",
    "\n",
    "  - (For Ubuntu) <https://ubuntu.com/server/docs/nvidia-drivers-installation>\n",
    "  - (Directly from NVIDIA) <https://docs.nvidia.com/cuda/cuda-installation-guide-linux>\n",
    "  - Go here to download the nvidia drivers <https://developer.nvidia.com/cuda-downloads>\n",
    "  - This example assumes zsh/bash in LINUX or a linux-like environment.\n",
    "  - NOTE! `.` (SINGLE PERIOD) means to load the script and execute it IN THE RUNNING SHELL\n",
    "  - NOTE!  ``$'' is the typical unix shell prompt!\n",
    "\n",
    "## python3 (>=3.11 preferred)\n",
    "## You can either use miniconda or directly use pip. \n",
    "### Using Miniconda makes dealing with different versions of python easier.\n",
    "## Setup your python virtual environment using pip\n",
    "  - (assuming your version is python3.11)\n",
    "  - This example assumes zsh/bash in LINUX or a linux-like environment.\n",
    "  - If you have to deal with multiple versions of python3, consider using conda to boostrap the venv.\n",
    "  - NOTE! `.` (SINGLE PERIOD) means to load the script and execute it IN THE RUNNING SHELL\n",
    "  - NOTE!  ``$'' is the typical unix shell prompt!\n",
    "  - `$ mkdir -p ~/VEnvs`\n",
    "  - `$ python3 -m venv ~/VEnvs/torch-311`\n",
    "  - NOTE! the directory `~/VEnvs/torch-311` does not matter. Just pick one that you'll use for this project.\n",
    "  - The above python call will create the `~/VEnvs/torch-311` and populate it for installing new python packages locally within it without disturbing the global python environment\n",
    "  - There will be several `activate` scripts that can be used to modify the running shell's environment to point to the module directory for all of the locally installed python packages.\n",
    "  - NOTE! pick the right \"activate\"  for your shell!\n",
    "  - `$ . ~/VEnvs/torch-311/bin/activate`\n",
    "  - Now your prompt should change, like below.\n",
    "  - `(torch-311) $ python3 -m pip install --upgrade pip`\n",
    "\n",
    "## Install and use miniconda to manage different \"pip\" venvs without having to remember where they are. \n",
    "  - <https://docs.anaconda.com/free/miniconda/>\n",
    "  - <https://www.anaconda.com/blog/understanding-conda-and-pip>\n",
    "  - The advantage of this method is that you can now maintain multiple venvs. You only need to remember where you installed `miniconda`\n",
    "  - Each Miniconda environment can have a different version of python as well as different versions of packages.\n",
    "  - Pip does not handle multiple python versions by itself.\n",
    "  - Assuming you installed miniconda in `~/miniconda`\n",
    "  - `$ . ~/miniconda3/bin/activate`\n",
    "  - `(base) $ ` By default `conda` starts off with a venv called `base` with the latest and greatest python3.\n",
    "  - You probably should not pollute the `base` env with lots of stuff.\n",
    "  - A good choice is `(base) $ conda create -n tiny`\n",
    "  - `(base) $ conda activate tiny`\n",
    "  - `(tiny) $ `\n",
    "  - In general `pip install PACKAGENAME` unless the package specifically requires `conda` to install.\n",
    "  - Goto <https://pytorch.org/get-started/locally/> and click on `pip` for the package to see the current way to install the latest pytorch.\n",
    "      - This command is currently `pip install pytorch torchvision torchaudio`\n",
    "          - installs the latest pytorch and nvidia support into the current environment.\n",
    "  - `(tiny) $ pip install graphviz numpy scipy simpy` to install some additional packages.\n",
    "\n",
    "### Managing VENvs with MiniCONDA \n",
    "  - Here are some more examples of what you can do with conda\n",
    "  - `(base) $ conda create -n v310 python=3.10`\n",
    "      - This will create a new venv called `v310` and start it off with python 3.10!\n",
    "      - You can still MANUALLY create ADDITIONAL Venvs using `python -m venv NEWDIRNAME` but you really don't need to any more.\n",
    "  - `(base) $ conda activate v310`\n",
    "    - You no longer need to remember where you placed the venv. Conda does that for you.\n",
    "  - `(v310) $ ` Now using python3.10, you can use `pip` to install packages.\n",
    "  - In general, use `pip` to install packages unless it requires conda to install.\n",
    "  - `(v310) $ conda install pytorch==2.2.2 pytorch-cuda=12.1 cudatoolkit -c pytorch -c nvidia`\n",
    "      This will install a specific version of pytorch into the current conda env `v310`\n",
    "  - `(v310) $ conda deactivate` to leave the conda environment\n",
    "\n",
    "\n",
    "## Install pytorch\n",
    "  - You can get by with the CPU version of pytorch if you are having difficulties getting your GPU drivers to work\n",
    "  - (Pytorch) <https://pytorch.org/get-started/locally/?ref=blog.qualiteg.com>\n",
    "\n",
    "## Now add additional packages using pip\n",
    "  - `$ pip install numpy simpy scipy matplotlib graphviz jupyter`\n",
    "  - `$ pip list` to see the list of installed packages int the current venv\n",
    "  - `$ pip show torch` to see details about the `torch` package\n",
    "  - \n",
    "## leave the pip venv when you're done\n",
    "  - `(torch-311) $ deactivate`\n",
    "  - `$ `"
   ]
  },
  {
   "cell_type": "code",
   "execution_count": null,
   "id": "e5a2b5c0-f230-4fe0-9f2f-4b0d923cd79c",
   "metadata": {},
   "outputs": [],
   "source": [
    "import numpy as np\n",
    "import math\n",
    "import sympy as yp\n",
    "import scipy as sp\n",
    "from sympy.abc import x,y\n",
    "import matplotlib.pyplot as plt"
   ]
  },
  {
   "cell_type": "code",
   "execution_count": null,
   "id": "44de3be2-be25-4ff5-80ee-c06ee004c6a5",
   "metadata": {},
   "outputs": [],
   "source": [
    "def f(x):\n",
    "    return 3*x**2 - 4*x + 5\n",
    "    "
   ]
  },
  {
   "cell_type": "code",
   "execution_count": null,
   "id": "5274645f-92d4-44e0-9ffd-e83f406b4d47",
   "metadata": {},
   "outputs": [],
   "source": [
    "f(3.0)"
   ]
  },
  {
   "cell_type": "code",
   "execution_count": null,
   "id": "98dfdab3-b3a9-45c1-b7cd-dda2d6311e5c",
   "metadata": {},
   "outputs": [],
   "source": [
    "xs = np.arange(-5, 5, 0.25)\n",
    "ys = f(xs)\n",
    "plt.plot(xs,ys)"
   ]
  },
  {
   "cell_type": "markdown",
   "id": "99997571-026a-479f-8f5e-481df2d48e39",
   "metadata": {},
   "source": [
    "## Assume the graph above represents the measured error of something\n",
    "### i.e. You want to make the error as close to zero as possible.\n",
    "### How would you go about it? i.e. where is the \"x\" that gives you the smallest error possible?"
   ]
  },
  {
   "cell_type": "markdown",
   "id": "12826646-7423-4813-a6ac-e9e08640e970",
   "metadata": {},
   "source": [
    "### The answer is obviously to follow the slope towards zero (!)\n",
    "### So how do you calculate the slope of a function?\n",
    "### that is the DERIVATIVE (yay calculus!) of the function with respect to the inputs\n",
    "## The definition of a derivative:\n",
    "```\n",
    "  limit     f(x+h) - f(x)\n",
    "  (h-> 0)  ---------------\n",
    "                  h\n",
    "```     "
   ]
  },
  {
   "cell_type": "code",
   "execution_count": null,
   "id": "d31050f5-d39c-494d-a0a5-f9a1a49868cb",
   "metadata": {},
   "outputs": [],
   "source": [
    "h = 0.00001\n",
    "x = 2/3\n",
    "f(x+h)"
   ]
  },
  {
   "cell_type": "code",
   "execution_count": null,
   "id": "61aa3230-3fef-4270-991d-3f0d2469b560",
   "metadata": {},
   "outputs": [],
   "source": [
    "(f(x+h)- f(x))/h\n"
   ]
  },
  {
   "cell_type": "markdown",
   "id": "01cf8ab6-da3e-46b3-af76-375140283a29",
   "metadata": {},
   "source": [
    "### some basic math functions have easy derivatives:\n",
    "```\n",
    " d(x*y)         (x+h)*y - x*y      x*y+h*y-x*y     h*y\n",
    " ------   = y  --------------- =  ------------ = ------ = y\n",
    "  d(x)                h                h            h\n",
    "\n",
    " d(x+y)         (x+h)+y -x-y      h  \n",
    "--------  = 1   ------------- =  ---  = 1\n",
    "  d(x)             h              h \n",
    "\n",
    " d(x**c)                      (x+h)**c - x**c      x**2 + 2*x*h + h**2 - x**2     2*x*h + h**2     \n",
    "---------  =  c * x**(c-1) = ----------------- =  ---------------------------- = -------------- = 2*x +h = 2*x\n",
    "  d(x)                            h                         h                          h\n",
    "\n",
    "```\n",
    "\n",
    "### Most of these can be derived from simplifying the above formula (f(x+h)-f(x))/h\n",
    "#### For example, if (x**c) where c == 3 then:\n",
    "```\n",
    "(x+h)*(x^2 + 2xh + h^2) - x^3\n",
    "x^3  + 2hx^2 + xh^2 + hx^2 + 2xh^2 + h^3 - x^3\n",
    "     + 2hx^2 + xh^2 + hx^2 + 2xh^2 + h^3\n",
    "     + 3hx^2 +               3xh^2 + h^3\n",
    "       (3x^2 +                3xh +  h^3)h            3x^2 + 3xh + h^2   as h -> 0 so 3xh and h^2 disappear\n",
    "       -----------------------------------  =\n",
    "                          h       \n",
    "```"
   ]
  },
  {
   "cell_type": "code",
   "execution_count": null,
   "id": "d22a5558-8b1d-4829-89b8-030b761c2982",
   "metadata": {},
   "outputs": [],
   "source": [
    "x, y, c = yp.symbols('x y c')"
   ]
  },
  {
   "cell_type": "code",
   "execution_count": null,
   "id": "048faad4-5146-454a-9c71-2a28f3e4d291",
   "metadata": {},
   "outputs": [],
   "source": [
    "def F(x):\n",
    "  return x**3"
   ]
  },
  {
   "cell_type": "code",
   "execution_count": null,
   "id": "46b0bc9d-ea8a-471d-a628-aa0a352088ad",
   "metadata": {},
   "outputs": [],
   "source": [
    "yp.diff((x)**3,x)"
   ]
  },
  {
   "cell_type": "code",
   "execution_count": null,
   "id": "0e244d48-4933-45e4-a13c-5dcdeefbd33b",
   "metadata": {},
   "outputs": [],
   "source": [
    "(x + y)*(y+x)"
   ]
  },
  {
   "cell_type": "code",
   "execution_count": null,
   "id": "6b713ded-a9ad-48ad-b83b-aa3d6181b58d",
   "metadata": {},
   "outputs": [],
   "source": [
    "yp.simplify(x**2 + 2*x*y + y**2)"
   ]
  },
  {
   "cell_type": "code",
   "execution_count": null,
   "id": "0b8ffbd5-aa15-4101-bd21-009837769e27",
   "metadata": {},
   "outputs": [],
   "source": [
    "yp.simplify((F(x+h) - F(x))/h)"
   ]
  },
  {
   "cell_type": "code",
   "execution_count": null,
   "id": "a67def00-974e-4627-912c-b082f5c339f7",
   "metadata": {},
   "outputs": [],
   "source": [
    "X = 2.0\n",
    "h = 0.0001\n",
    "(F(X+h) - F(X))/h"
   ]
  },
  {
   "cell_type": "code",
   "execution_count": null,
   "id": "ef69c6bc-3039-4be8-9f5d-41ea8c21e2ca",
   "metadata": {},
   "outputs": [],
   "source": [
    "a = 2.0\n",
    "b = -3.0\n",
    "c = 10\n",
    "d = a*b + c\n",
    "print(d)"
   ]
  },
  {
   "cell_type": "code",
   "execution_count": null,
   "id": "63338708-3d71-42a6-af32-0c673997baa6",
   "metadata": {},
   "outputs": [],
   "source": [
    "h = 0.0001\n",
    "#inputs\n",
    "a = 2.0\n",
    "b = -3.0\n",
    "c = 10\n",
    "d1 = a*b  + c\n",
    "a += h\n",
    "d2 = a*b +c\n",
    "print('d1', d1)\n",
    "print('d2', d2)\n",
    "print('slope', (d2-d1)/h)"
   ]
  },
  {
   "cell_type": "code",
   "execution_count": null,
   "id": "5816ebb1-ff1d-4bc7-b4a3-423a1dd50a4e",
   "metadata": {},
   "outputs": [],
   "source": [
    "class Value:\n",
    "  \"\"\" stores a single scalar value and its gradient \"\"\"\n",
    "\n",
    "  def __init__(self, data, _children=(), _op='', label='', requires_grad=False):\n",
    "    self.data = data\n",
    "    self._prev = set(_children)\n",
    "    self._op = _op # the op that produced this node, for graphviz / debugging / etc\n",
    "\n",
    "  def __add__(self, other):\n",
    "    other = other if isinstance(other, Value) else Value(other)\n",
    "    out = Value(self.data + other.data, (self, other), '+')\n",
    "    return out\n",
    "\n",
    "  def __mul__(self, other):\n",
    "    other = other if isinstance(other, Value) else Value(other)\n",
    "    out = Value(self.data * other.data, (self, other), '*')\n",
    "    return out\n",
    "\n",
    "  def __pow__(self, other):\n",
    "    assert isinstance(other, (int, float)), \"only supporting int/float powers for now\"\n",
    "    out = Value(self.data**other, (self,), f'**{other}')\n",
    "    return out\n",
    "\n",
    "  def relu(self):\n",
    "    out = Value(0 if self.data < 0 else self.data, (self,), 'ReLU')\n",
    "    return out\n",
    "\n",
    "  def tanh(s):\n",
    "    x = s.data\n",
    "    t = (math.exp(2*x) - 1)/(math.exp(2*x)+1)\n",
    "    out = Value(t, (s,), 'tanh')\n",
    "    return out\n",
    "\n",
    "  def __neg__(self): # -self\n",
    "    return self * -1\n",
    "\n",
    "  def __radd__(self, other): # other + self\n",
    "    return self + other\n",
    "\n",
    "  def __sub__(self, other): # self - other\n",
    "    return self + (-other)\n",
    "  \n",
    "  def __radd__(self, other): # other + self\n",
    "    return self + other\n",
    "\n",
    "  def __rsub__(self, other): # other - self\n",
    "    return other + (-self)\n",
    "\n",
    "  def __rmul__(self, other): # other * self\n",
    "    return self * other\n",
    "\n",
    "  def __truediv__(self, other): # self / other\n",
    "    return self * other**-1\n",
    "\n",
    "  def __rtruediv__(self, other): # other / self\n",
    "    return other * self**-1\n",
    "\n",
    "  def __repr__(self):\n",
    "    return f\"Value(data={self.data})\"\n",
    "\n",
    "h = Value(0.0001)\n",
    "#inputs\n",
    "a = Value(2.0)\n",
    "b = Value(-3.0)\n",
    "c = Value(10)\n",
    "d1 = a*b  + c\n",
    "a += h\n",
    "d2 = a*b +c\n",
    "print('d1', d1)\n",
    "print('d2', d2)\n",
    "print('slope', (d2-d1)/h)\n"
   ]
  },
  {
   "cell_type": "code",
   "execution_count": null,
   "id": "51574892-e568-428a-bf8a-f80b79b68132",
   "metadata": {},
   "outputs": [],
   "source": [
    "def testCalc(a, b, c, h=0.0001):\n",
    "  d1 = a*b  + c\n",
    "  a += h\n",
    "  d2 = a*b + c\n",
    "  print(f'using {type(a)}\\n  {d1=}\\n  {d2=}\\n  slope={(d2-d1)/h=}')"
   ]
  },
  {
   "cell_type": "code",
   "execution_count": null,
   "id": "d2e38216-edb2-4374-a0b8-7512bbb34447",
   "metadata": {},
   "outputs": [],
   "source": [
    "testCalc(2, -3, 10)"
   ]
  },
  {
   "cell_type": "code",
   "execution_count": null,
   "id": "feeadc01-2e9b-48fc-9ec9-bfb4618c2e04",
   "metadata": {},
   "outputs": [],
   "source": [
    "testCalc(Value(2), Value(-3), Value(10))"
   ]
  },
  {
   "cell_type": "code",
   "execution_count": null,
   "id": "3c3919e2-5880-4d9c-9b5d-9773e87cb9a2",
   "metadata": {},
   "outputs": [],
   "source": []
  }
 ],
 "metadata": {
  "kernelspec": {
   "display_name": "Python 3 (ipykernel)",
   "language": "python",
   "name": "python3"
  },
  "language_info": {
   "codemirror_mode": {
    "name": "ipython",
    "version": 3
   },
   "file_extension": ".py",
   "mimetype": "text/x-python",
   "name": "python",
   "nbconvert_exporter": "python",
   "pygments_lexer": "ipython3",
   "version": "3.12.3"
  }
 },
 "nbformat": 4,
 "nbformat_minor": 5
}
