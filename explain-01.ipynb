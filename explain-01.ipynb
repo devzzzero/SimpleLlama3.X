{
 "cells": [
  {
   "cell_type": "markdown",
   "id": "c20fc841-ae0d-49bf-9f25-02fb4c879659",
   "metadata": {},
   "source": [
    "# So *WHY* do neural networks work?\n",
    "## Isn't neural networks just matrix*vector?"
   ]
  },
  {
   "cell_type": "markdown",
   "id": "1c8d5999-c995-4748-807a-c721750bb045",
   "metadata": {},
   "source": [
    "## quick diversion to matrix * vector\n",
    "\n",
    "## a matrix is usually a 2d 'box' of numbers\n",
    "### with a specific number of rows and columns\n",
    "### A special case of a 1D matrix is called a vector"
   ]
  },
  {
   "cell_type": "markdown",
   "id": "6e01e425-dbed-4820-8939-c2312de5483e",
   "metadata": {
    "jp-MarkdownHeadingCollapsed": true
   },
   "source": [
    "#### This is a 3D vector (i.e. a 1D matrix of 3 numbers)\n",
    "```\n",
    "  | 0.1 |\n",
    "  | 0.2 |\n",
    "  | 0.3 |\n",
    "```"
   ]
  },
  {
   "cell_type": "markdown",
   "id": "4035c1a3-014b-4705-a3f5-3737838520da",
   "metadata": {},
   "source": [
    "### The Dot Product is simply a element wise multiply add of two vectors (or matrices) (of the same shape)\n",
    "### The Dot Product results in a SCALAR (i.e. a zero-dimensional vector, or just a single number without a \"box\")\n",
    "```\n",
    "       | 0.1 |     | 3 |      0.1 * 3\n",
    "       | 0.2 | dot | 2 |   =  0.2 * 2  ---> 1.0\n",
    "       | 0.3 |     | 1 |      0.3 * 1\n",
    "```\n"
   ]
  },
  {
   "cell_type": "markdown",
   "id": "ee9476b0-ab53-42f9-82d3-7485f123dc42",
   "metadata": {},
   "source": [
    "### Here is a matrix times vector.\n",
    "### Think of it as taking each ROW of the matrix and doing a dot product of that row with the vector.\n",
    "### If the matrix has 'a' rows and 'b' columns, and the vector has 'b' rows, then the resulting vector has 'a' rows (and 1 column)\n",
    "```\n",
    "  | a00 a01 |   | v00 |      | a00*v00+a01*v01 |\n",
    "  | a10 a11 | * | v01 |  =>  | a10*v00+a11*v01 |\n",
    "  | a20 a21 |                | a20*v00+a21*v01 |\n",
    "\n",
    "Think of it as:\n",
    "ROTATE the vector so that it's \"lying down\" and line it up with each row of the LH matrix\n",
    "\n",
    "\n",
    "  | a00 a01 |   | v00 v01 |      | a00*v00+a01*v01 |\n",
    "  | a10 a11 | *              =>  | a10*v00+a11*v01 |\n",
    "  | a20 a21 |                    | a20*v00+a21*v01 |\n",
    "\n",
    "(Above, you can think of the 1D vector having 2 rows, 1 column now instead has 1 row and 2 columns)\n",
    "\n",
    "For each row of the LH, do a dot product\n",
    "\n",
    "  | a00 a01 | * | v00 v01 |     | a00*v00+a01*v01 |\n",
    "  | a10 a11 | * | v00 v01 | ->  | a10*v00+a11*v01 |     \n",
    "  | a20 a21 | * | v00 v01 |     | a20*v00+a21*v01 |\n",
    "\n",
    "```"
   ]
  },
  {
   "cell_type": "markdown",
   "id": "4a80d658-9022-4a8d-be16-0d134dbef369",
   "metadata": {},
   "source": [
    "### Here is matrix times matrix\n",
    "### assume the LEFT matrix has 'a' rows and 'b' columns and  the right matrix and 'b' rows and 'c' columns\n",
    "### Then the resulting matrix has 'a' rows and 'c' columns"
   ]
  },
  {
   "cell_type": "markdown",
   "id": "b9f4ece0-3fd3-4bd7-8662-244840a18cbb",
   "metadata": {},
   "source": [
    "```\n",
    "  | a00 a01 |   | v00 v01 |      | a00*v00+a01*v01 a00*v01+a01*v11 |\n",
    "  | a10 a11 | * | v01 v11 |  =>  | a10*v00+a11*v01 a10*v01+a11*v11 |\n",
    "  | a20 a21 |                    | a20*v00+a21*v01 a20*v01+a21*v11 |\n",
    "```"
   ]
  },
  {
   "cell_type": "markdown",
   "id": "dc12efde-8a01-4716-9d26-780a2fd89305",
   "metadata": {
    "jp-MarkdownHeadingCollapsed": true
   },
   "source": [
    "### Think of matrix multiply as a sequence of matrix * vector where each vector is the COLUMNS of the RH.\n",
    "### So take each column of the RH matrix, and do a matrix*vector.\n",
    "### Each matrix*vector results in a column of 'b' elements (!)"
   ]
  },
  {
   "cell_type": "markdown",
   "id": "fec08bda-0b2c-4237-bbd2-ffabc9a079fe",
   "metadata": {},
   "source": [
    "### A matrix is basically the configuration of a bunch of neurons.\n",
    "### and the input vector is the input signal to each neuron.\n",
    "### We just do a matrix * vector, and we have a neural network! \n",
    "### Yippie??\n",
    "### So are we done?"
   ]
  },
  {
   "cell_type": "markdown",
   "id": "aaf95417-a454-4ae3-bd58-0156985c5ad5",
   "metadata": {},
   "source": [
    "# NOT QUITE\n",
    "## It turns out that the derivative of a matrix * vector is not that interesting (because it is a LINEAR OPERATION)\n",
    "## The slope toward zero generally WILL NOT give you an interesting solution."
   ]
  },
  {
   "cell_type": "markdown",
   "id": "71909fa5-6432-4ff0-92d1-a7527c44e20b",
   "metadata": {},
   "source": [
    "# The key invention that makes neural networks work (invented about 60 years ago) is that we need a source of non-linearity"
   ]
  },
  {
   "cell_type": "markdown",
   "id": "b4cae444-3266-473a-85d7-4f208b314c93",
   "metadata": {},
   "source": [
    "## The nonlinearity can be practically anything!\n",
    "### i.e. exp() works sometimes\n",
    "### tanh() works sometimes!\n",
    "### other seemingly random non linear function works too! (sometimes!)\n",
    "# Are you in AWE?!!"
   ]
  },
  {
   "cell_type": "markdown",
   "id": "a0322b09-ef10-42f9-af65-41ca3158489a",
   "metadata": {},
   "source": [
    "## In general, an *N* dimensional number is referred to as a *tensor*\n",
    "## So matrices are tensors (of rank 2), so are vectors (of rank 1)\n",
    "## regular numbers are tensors of rank 0 (i.e. number without a \"box\")\n",
    "### So a 2D tensor (matrix) is represented as an array of numbers of length (r*c)\n",
    "## An *N* dimensional tensor of size ($k_1, k_2, ..., k_n)$ is represented as an array of numbers of length $k_1 * k_2 ... * k_n$\n",
    "### The numbers ($k_1, ... k_n$) is called the *shape* of the tensor\n",
    " - 2D matrix of size (r,c) is represented as an array of numbers of length (r*c)\n",
    " - 1D matrix (e.g. vector) of size (r) is represented as an array of numbers of length r\n",
    " - a single number can be represented just as a single number\n",
    " - a 3D tensor of shape (3,5,4) is represented as an array of numbers of length (3 * 4 * 5)"
   ]
  },
  {
   "cell_type": "markdown",
   "id": "b3c3a1f9-2d3d-4b05-b929-c79441e8e98e",
   "metadata": {},
   "source": [
    "# One additional note about matrices\n",
    "## a common operation that we'll see is the TRANSPOSE operation.\n",
    "## Think of transpose as simply swapping the coordinates of the matrix\n",
    "   \n",
    "         A             V           =>   D\n",
    "        | a00 a01 |   | v00 v01 |      | a00*v00+a01*v01 a00*v01+a01*v11 |\n",
    "        | a10 a11 | @ | v10 v11 |  =>  | a10*v00+a11*v01 a10*v01+a11*v11 | \n",
    "        | a20 a21 |                    | a20*v00+a21*v01 a20*v01+a21*v11 |\n",
    "\n",
    "## In this example A is of shape (3,2) and V is of shape (2,2)\n",
    "\n",
    "       A.T        V.T\n",
    "    a00 a10 a20   v00 v10\n",
    "    a01 a11 a21   v01 v11\n",
    "    \n",
    "### Note that A.T @ V.T is not legal\n",
    "## but V.T @ A.T IS, resulting in a shape (2,3)\n",
    "###    (2,2)  (2,3)\n",
    "\n",
    "## `A.T` is of shape (2,3) and `V.T` is still of shape (2,2) but note that `V.T` is NOT the same as `V`!\n",
    "\n",
    "## `D.T` is shown below. `D` is a (3,2). `D.T` is (2,3) \n",
    "         | a00*v00+a01*v01 a10*v00+a11*v01 a20*v00+a21*v01 |\n",
    "         | a00*v01+a01*v11 a10*v01+a11*v11 a20*v01+a21*v11 |\n",
    "\n",
    "#   V.T @ A.T ==? D.T"
   ]
  }
 ],
 "metadata": {
  "kernelspec": {
   "display_name": "Python 3",
   "language": "python",
   "name": "python3"
  },
  "language_info": {
   "codemirror_mode": {
    "name": "ipython",
    "version": 3
   },
   "file_extension": ".py",
   "mimetype": "text/x-python",
   "name": "python",
   "nbconvert_exporter": "python",
   "pygments_lexer": "ipython3",
   "version": "3.11.8"
  }
 },
 "nbformat": 4,
 "nbformat_minor": 5
}
