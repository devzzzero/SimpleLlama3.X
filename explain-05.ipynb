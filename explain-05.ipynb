{
 "cells": [
  {
   "cell_type": "code",
   "execution_count": null,
   "id": "1ec36ab7-2c55-4557-965d-29856448254c",
   "metadata": {},
   "outputs": [],
   "source": [
    "import sys\n",
    "import os\n",
    "import torch\n",
    "from tinytorch import *"
   ]
  },
  {
   "cell_type": "code",
   "execution_count": null,
   "id": "ad93f81f-2334-4738-bab6-71d82dacdee8",
   "metadata": {},
   "outputs": [],
   "source": [
    "def testDraw(ValType):\n",
    "  a = ValType(2.0, label='a', requires_grad=True)\n",
    "  b = ValType(-3.00, label='b', requires_grad=True)\n",
    "  c = ValType(10.0, label='c', requires_grad=True)\n",
    "  e = a*b; \n",
    "  d = e + c                                                  ; assignLabel(d, 'd', requires_grad=True) \n",
    "  e = a*b                                                    ; assignLabel(e, 'e', requires_grad=True)                                    \n",
    "  f = ValType(-2.0, label = 'f', requires_grad=True)\n",
    "  L = d*f                                                    ; assignLabel(L, 'L', requires_grad=True)\n",
    "  return L,f,e,d,c,b,a\n"
   ]
  },
  {
   "cell_type": "code",
   "execution_count": null,
   "id": "705835f8-7984-4e51-8713-d14f73dd9ce8",
   "metadata": {},
   "outputs": [],
   "source": [
    "V1 = testDraw(Value)"
   ]
  },
  {
   "cell_type": "code",
   "execution_count": null,
   "id": "b1724c70-f108-468b-ba46-aa04ee011d5f",
   "metadata": {},
   "outputs": [],
   "source": [
    "draw_dot(V1[0])"
   ]
  },
  {
   "cell_type": "code",
   "execution_count": null,
   "id": "75cef27e-97c9-485e-9b88-06dd6d7df2e7",
   "metadata": {},
   "outputs": [],
   "source": [
    "V2 = testDraw(Tensor)"
   ]
  },
  {
   "cell_type": "code",
   "execution_count": null,
   "id": "974c0b82-0229-4aa0-9f34-be850609488b",
   "metadata": {},
   "outputs": [],
   "source": [
    "draw_dot(V2[0])"
   ]
  },
  {
   "cell_type": "code",
   "execution_count": null,
   "id": "8abe886b-c56d-47b9-84d0-522ba430773e",
   "metadata": {},
   "outputs": [],
   "source": [
    "V1[0].backward()"
   ]
  },
  {
   "cell_type": "code",
   "execution_count": null,
   "id": "69e1d344-35c5-4ef1-a02a-4ace0ae34a98",
   "metadata": {},
   "outputs": [],
   "source": [
    "draw_dot(V1[0])"
   ]
  },
  {
   "cell_type": "code",
   "execution_count": null,
   "id": "ce0a4dc3-aac4-4ce7-b8a5-82fb664f7054",
   "metadata": {},
   "outputs": [],
   "source": [
    "V2[0].backward()"
   ]
  },
  {
   "cell_type": "code",
   "execution_count": null,
   "id": "a2b8ae84-c4c3-4108-ab8c-cc15196f40a3",
   "metadata": {},
   "outputs": [],
   "source": [
    "draw_dot(V2[0])"
   ]
  },
  {
   "cell_type": "code",
   "execution_count": null,
   "id": "78948baf-c1ee-43e3-b5f7-f56b5164b861",
   "metadata": {},
   "outputs": [],
   "source": [
    "for a,b in zip(V1,V2):\n",
    "  print(a.data, b.item(), a.grad, b.grad.item(), a.data == b.item() and a.grad == b.grad.item())"
   ]
  },
  {
   "cell_type": "code",
   "execution_count": null,
   "id": "59f75597-c929-44bf-b63d-8d566c5135ed",
   "metadata": {},
   "outputs": [],
   "source": [
    "for k in V2:\n",
    "  print(k.label, k.op, k._prev)"
   ]
  },
  {
   "cell_type": "markdown",
   "id": "b7f3bff3-6581-4917-8c24-dd5ff9f7d44d",
   "metadata": {},
   "source": [
    "# Now lets do the prior example of a very simple 3 layer perceptron"
   ]
  },
  {
   "cell_type": "code",
   "execution_count": null,
   "id": "5d882abd-ba95-4588-93b3-001184cd696d",
   "metadata": {},
   "outputs": [],
   "source": [
    "import random\n",
    "import numpy as np\n",
    "\n",
    "class Layer:\n",
    "  def __init__(s, id, nin, nout, ValType=torch.tensor, dtype=float):\n",
    "    s.w = ValType([ random.uniform(-1,1) for k in range(nin*nout)], dtype=dtype).view(nout, nin); assignLabel(s.w, f'L{id}.w', requires_grad=True)\n",
    "    s.b = ValType([random.uniform(-1,1) for k in range(nout)], dtype=dtype); assignLabel(s.b, requires_grad=True, label=f'L{id}.b')\n",
    "\n",
    "  def __call__(s, x):\n",
    "    outs = (s.w @ x + s.b).tanh() \n",
    "    return outs\n",
    "  def parameters(s):\n",
    "    return [s.w, s.b] \n",
    "    \n",
    "class MLP:\n",
    "  def __init__(s, nin, nouts, ValType=torch.tensor, dtype=float):\n",
    "    \"\"\" nouts in a list of sizes for the individual layers \"\"\"\n",
    "    sz = [nin] + nouts\n",
    "    s.layers = [Layer(i, sz[i], sz[i+1], dtype=dtype, ValType=ValType) for i in range(len(nouts))]\n",
    "  def __call__(s,x):\n",
    "    for layer in s.layers:\n",
    "      x = layer(x)\n",
    "    return x\n",
    "  def parameters(s):\n",
    "    return [ p for layer in s.layers for p in layer.parameters() ]\n",
    "            \n"
   ]
  },
  {
   "cell_type": "code",
   "execution_count": null,
   "id": "ccbe78dc-6d6f-42b7-b557-144e0108ffa2",
   "metadata": {},
   "outputs": [],
   "source": [
    "xs = [\n",
    "  [2.0, 3.0, -1.0],\n",
    "  [3.0, -1.0, 0.5],\n",
    "  [0.5, 1.0, 1.0],\n",
    "  [1.0, 1.0, -1.0],\n",
    "]\n",
    "x = xs[0]\n",
    "ys = [ 1.0, -1.0, -1.0, 1.0] # desired targets"
   ]
  },
  {
   "cell_type": "code",
   "execution_count": null,
   "id": "1fb84d05-0394-4a3b-a8d8-483773c81a47",
   "metadata": {},
   "outputs": [],
   "source": [
    "def buildMLP(nin, nouts, dtype=float, ValType=torch.tensor):\n",
    "  n = MLP(nin, nouts, dtype=dtype, ValType=ValType)\n",
    "  for i,k in enumerate(n.layers):\n",
    "    print(f'Layer {i} params: {k.w.shape=}, {k.b.shape=}')\n",
    "  print(f'number of parameters = {sum(map(lambda x: MUL(*x.shape, 1,1), [ x for x in n.parameters() ]))}')\n",
    "  return n"
   ]
  },
  {
   "cell_type": "code",
   "execution_count": null,
   "id": "f0124914-eb9b-4825-8d0b-95a632ff7898",
   "metadata": {},
   "outputs": [],
   "source": [
    "def doPass(nn, xs, ys, npass=20, ValType=torch.tensor, Zeros=torch.zeros, dtype=float, LR=0.05):\n",
    "  assert len(xs) == len(ys), f'{len(xs)=} elements but {len(ys)=}'\n",
    "  assert isinstance(nn, MLP), f'{type(MLP)} is not a {MLP}'\n",
    "  YS = [ ValType(k,dtype=dtype) for k in ys ]\n",
    "  #ebugPush(Tensor, Tensor.backward, Tensor.binaryOpHelper, Tensor.unaryOpHelper)\n",
    "  losses = []\n",
    "  for k in range(npass):\n",
    "    # forward pass\n",
    "    # produce len(xs) number of tensors\n",
    "    ypred = [ nn(ValType(x,dtype=dtype)) for x in xs ]\n",
    "    loss = sum((yout-ygt)**2 for ygt, yout in zip(YS, ypred))\n",
    "    print(f'pass {k} {loss.item()}')\n",
    "    # backward pass\n",
    "    for p in nn.parameters():\n",
    "      p.grad = Zeros(*p.shape, dtype=float)\n",
    "    loss.backward()\n",
    "    # update\n",
    "    # note that in a real NN, the following manual adjustment would be handled automatically by the gradient descent function\n",
    "    for p in nn.parameters():\n",
    "      pD = -LR * p.grad\n",
    "      # print(Shapes(p=p, MINUS_EQUAS='', pD=pD, LR=LR, pG=p.grad))\n",
    "      p.requires_grad = False\n",
    "      p += pD\n",
    "      p.requires_grad = True\n",
    "    losses.append(loss)\n",
    "  return losses\n",
    "  "
   ]
  },
  {
   "cell_type": "code",
   "execution_count": null,
   "id": "efdfcf06-c366-474a-ae45-f7a1f7e7ee24",
   "metadata": {},
   "outputs": [],
   "source": [
    "DebugPop()"
   ]
  },
  {
   "cell_type": "code",
   "execution_count": null,
   "id": "260f3ad6-3a4a-4c15-9ff9-aabbca3faf4d",
   "metadata": {},
   "outputs": [],
   "source": [
    "np.random.seed(1337)\n",
    "random.seed(1337)\n",
    "\n",
    "n1 = buildMLP(3, [4, 4, 1])\n",
    "\n",
    "np.random.seed(1337)\n",
    "random.seed(1337)\n",
    "\n",
    "n2 = buildMLP(3, [4, 4, 1], ValType=Tensor)\n",
    "\n",
    "a1 = n1(torch.tensor(xs[0], dtype=float))\n",
    "a2 = n2(Tensor(xs[0],dtype=float))\n",
    "assert abs(a1.item() - a2.item()) < 0.000001\n",
    "##doPass(n1, xs, ys)"
   ]
  },
  {
   "cell_type": "code",
   "execution_count": null,
   "id": "8e1007a8-599f-4129-9b88-ebb94968735b",
   "metadata": {},
   "outputs": [],
   "source": [
    "# now lets draw the computation graph of a2\n",
    "draw_dot(a2,Dir='LR')"
   ]
  },
  {
   "cell_type": "code",
   "execution_count": null,
   "id": "fbf2723f-7870-4ee7-beed-2fedcc294445",
   "metadata": {},
   "outputs": [],
   "source": [
    "# now do it again\n",
    "np.random.seed(1337)\n",
    "random.seed(1337)\n",
    "\n",
    "n1 = buildMLP(3, [4, 4, 1])\n",
    "L1 = doPass(n1, xs, ys)"
   ]
  },
  {
   "cell_type": "code",
   "execution_count": null,
   "id": "fef103ed-2eb6-4677-b898-fdcb0caf15a6",
   "metadata": {},
   "outputs": [],
   "source": [
    "#DebugPush(Tensor, Tensor.binaryOpHelper, Tensor.unaryOpHelper, Tensor.backward)\n",
    "DebugPop()"
   ]
  },
  {
   "cell_type": "code",
   "execution_count": null,
   "id": "d5ad1f3d-ad15-423b-a40d-2bd89193e50b",
   "metadata": {},
   "outputs": [],
   "source": [
    "np.random.seed(1337)\n",
    "random.seed(1337)\n",
    "\n",
    "n2 = buildMLP(3, [4, 4, 1], ValType=Tensor)\n",
    "L2 = doPass(n2, xs, ys, ValType=Tensor, Zeros=Tensor.zeros)"
   ]
  },
  {
   "cell_type": "code",
   "execution_count": null,
   "id": "ef434b27-a669-46b5-93d6-2ce4468aa86d",
   "metadata": {},
   "outputs": [],
   "source": [
    "assert len(L1) == len(L2)"
   ]
  },
  {
   "cell_type": "code",
   "execution_count": null,
   "id": "8fc5a15f-d80a-405e-8a4b-7246ce3cb6a3",
   "metadata": {},
   "outputs": [],
   "source": [
    "L1"
   ]
  },
  {
   "cell_type": "code",
   "execution_count": null,
   "id": "1826eeb1-7253-408d-a74a-42e03907abda",
   "metadata": {},
   "outputs": [],
   "source": [
    "for i in range(len(L1)):\n",
    "  print(L1[i].item(),  L2[i].item())\n",
    "  assert abs(L1[i].item() - L2[i].item()) < 0.00001, f'Loss {i} is not identical {L1[i]} {L2[i]}'"
   ]
  },
  {
   "cell_type": "code",
   "execution_count": null,
   "id": "35f26690-0b6a-4df7-8481-f5d5df3482dd",
   "metadata": {},
   "outputs": [],
   "source": []
  }
 ],
 "metadata": {
  "kernelspec": {
   "display_name": "Python 3 (ipykernel)",
   "language": "python",
   "name": "python3"
  },
  "language_info": {
   "codemirror_mode": {
    "name": "ipython",
    "version": 3
   },
   "file_extension": ".py",
   "mimetype": "text/x-python",
   "name": "python",
   "nbconvert_exporter": "python",
   "pygments_lexer": "ipython3",
   "version": "3.10.14"
  }
 },
 "nbformat": 4,
 "nbformat_minor": 5
}
