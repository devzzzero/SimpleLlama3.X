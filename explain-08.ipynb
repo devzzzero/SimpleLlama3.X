{
 "cells": [
  {
   "cell_type": "markdown",
   "id": "81011158-7b7c-49d5-8224-b9a2f2bfd611",
   "metadata": {
    "jp-MarkdownHeadingCollapsed": true
   },
   "source": [
    "### Some terms you need to understand for understanding Large Language Models\n",
    "  - logits\n",
    "  - softmax\n",
    "  - cross entropy\n",
    "  - one hot encoding\n",
    "  - encoding/embedding\n",
    "  - tokens, tokenizer\n",
    "  - attention\n",
    "    - multi-head attention\n",
    "  - **positional encoding**\n",
    "    - rotary positional encoding (Used in LLama)\n",
    "  - *transformer*\n",
    "    - *encoder*\n",
    "    - *decoder*\n",
    "    - Residual Connection\n",
    "    - *Feed Forward Layer*\n",
    "    - *Layer Normalization*\n",
    "      - LLama suggests RMSNorm instead <https://arxiv.org/abs/1910.07467>\n",
    "  - optimizer\n",
    "  - Important players in the AI Ecosystem\n",
    "  - How to train/fine tune!"
   ]
  },
  {
   "cell_type": "markdown",
   "id": "e6bfe6bf-645c-4e60-9dc5-513dc52ad2e1",
   "metadata": {
    "jp-MarkdownHeadingCollapsed": true
   },
   "source": [
    "### What is positional encoding?\n",
    "  - Intuitively, we perturb the embeddings of tokens to encode *spatial positions/relationships* of the tokens to the embedding.\n",
    "    - The NN *learns* the spatial relationship between the tokens\n",
    "  - Experimentally, it seems to produce faster training (i.e. it converges faster)\n",
    "    - Unclear if more training without PE can approach similar loss values.\n",
    "  - How does it work?\n",
    "    - Magic! (err!! **Divine Providence**)"
   ]
  },
  {
   "attachments": {},
   "cell_type": "markdown",
   "id": "6a1b9d53-feea-4c82-9a79-d18039f284dd",
   "metadata": {},
   "source": [
    "### Rotary Position Encoding <https://arxiv.org/abs/2104.09864> (for LLama)\n",
    "  - >Transformer-based language modeling usually leverages the position information of individual tokens through a self-\n",
    "attention mechanism. ... $q_{m}^{T}  k_n$ typically enables knowledge conveyance between\n",
    "tokens at different positions. In order to incorporate relative position information, we require the inner product of query\n",
    "$q_m$ and key $k_n$ to be formulated by a function $g$, which takes only the word embeddings $x_m$ , $x_n$, and their relative\n",
    "position $m − n$ as input variables. In other words, we hope that the inner product encodes position information only in\n",
    "the relative form:\n",
    "  - Intuitively, it is treating consecutive values in the embedding for a token as a point in 2-space and rotating it. The angle of rotation is proportional to $m - n$ the difference between the positions of the tokens\n",
    "  - Find a solution such that $\\displaystyle⟨f_q (x_m , m), f_k (x_n , n)⟩ = g(x_m , x_n, m − n)$\n",
    "    - i.e only depends on $x_m$ and $x_n$ and $m-n$\n",
    "    - $\\begin{aligned} f_q(x_m, m) &= (W_q @ x_m) \\displaystyle e^{i m \\theta}\\\\\n",
    "       f_k(x_n, n) &= (W_k @ x_n) \\displaystyle e^{i n \\theta}\\\\\n",
    "       g(x_m, x_n, m − n) &=  Re[(W_q x_m ) @ (W_k x_n)^{∗} \\displaystyle e^{i(m−n)\\theta}]\\\\\n",
    "       \\end{aligned}$\n",
    "\n",
    "    - $(W_k @ x_n)^{∗}$ is complex conjugate of $(W_k @ x_n)$\n",
    "      - $conj(x + iy) = x - iy$\n",
    "      \n",
    "  - R can be of this form\n",
    "    - $f_{(q,k)}(x_m, m) = \\begin{pmatrix}\n",
    "                               cos(m \\theta) & -sin (m \\theta)\\\\\n",
    "                               sin(m \\theta) & cos (m \\theta)\\\\\n",
    "                             \\end{pmatrix} \n",
    "                             \\begin{pmatrix}\n",
    "                               \\displaystyle W^{11}_{(q,k)} & W^{12}_{(q,k)}\\\\\n",
    "                               \\displaystyle W^{21}_{(q,k)} & W^{22}_{(q,k)}\\\\\n",
    "                             \\end{pmatrix}\n",
    "                             \\begin{pmatrix}\n",
    "                               x^{(1)}_m\\\\\n",
    "                               x^{(2)}_m\\\\\n",
    "                             \\end{pmatrix}\n",
    "                             $ (Eqn 13 in <https://arxiv.org/abs/2104.09864>)"
   ]
  },
  {
   "cell_type": "code",
   "execution_count": null,
   "id": "4f60a602-ae2d-494b-b5d8-0db75072299b",
   "metadata": {},
   "outputs": [],
   "source": [
    "import torch\n",
    "from torch.nn import functional as F\n",
    "from torch import nn\n",
    "from tinytorch.MyStuff import *\n",
    "from tinytorch.tensorhelpers import *\n",
    "import math\n",
    "import matplotlib.pyplot as plt\n",
    "import numpy as np\n",
    "\n",
    "from matplotlib.patches import Ellipse\n",
    "from matplotlib.text import OffsetFrom\n",
    "from subroutines import *"
   ]
  },
  {
   "cell_type": "code",
   "execution_count": null,
   "id": "e406f489-ede3-40fa-9c02-7ed8acdb2b90",
   "metadata": {},
   "outputs": [],
   "source": [
    "def rot2d(theta, device='cpu'):\n",
    "  return torch.tensor([[math.cos(theta), -math.sin(theta)],\n",
    "                       [math.sin(theta), math.cos(theta)]], dtype=float, device=device)\n",
    "\n",
    "PI = math.pi\n",
    "PI2 = 2*PI\n",
    "def toRAD(degree):\n",
    "  return PI * degree/180.0"
   ]
  },
  {
   "cell_type": "code",
   "execution_count": null,
   "id": "ab930029-fea0-4733-b19d-7db5539ef5ec",
   "metadata": {
    "scrolled": true
   },
   "outputs": [],
   "source": [
    "pt = torch.tensor([1.0, 0], dtype=float)\n",
    "m2 = toRAD(15)\n",
    "m3 = rot2d(m2)\n",
    "print(hprt(m3))\n",
    "Rtn = [pt]"
   ]
  },
  {
   "cell_type": "code",
   "execution_count": null,
   "id": "3d07514a-5191-497b-a706-950139aca7ba",
   "metadata": {
    "scrolled": true
   },
   "outputs": [],
   "source": [
    "xs = [ t.tolist()[0] for t in Rtn ]\n",
    "ys = [ t.tolist()[1] for t in Rtn ]\n",
    "fig, ax = plt.subplots()\n",
    "plt.axis([-1.4, 1.4, -1.4, 1.4])\n",
    "ax.scatter(xs, ys, marker='s', label=f'[1,0] rotated {(len(Rtn)-1)*15.0} degrees')\n",
    "ax.axhline(y=0, color='k')\n",
    "ax.axvline(x=0, color='k')\n",
    "#fig.set_size_inches(4, 4)\n",
    "plt.axis('equal')\n",
    "plt.legend(loc='upper right')\n",
    "plt.show()\n",
    "Rtn.append(m3 @ Rtn[-1])  "
   ]
  },
  {
   "cell_type": "code",
   "execution_count": null,
   "id": "f74685ab-f752-4572-bb65-af6471c8ee12",
   "metadata": {},
   "outputs": [],
   "source": [
    "print(hprt(rot2d(toRAD(0))))"
   ]
  },
  {
   "attachments": {
    "7d8755a6-ca0b-4f56-884c-7b22d4e7f43c.png": {
     "image/png": "[encoded data removed]"
    },
    "c916dc26-64f8-4472-82b4-5453529a9530.png": {
     "image/png": "[encoded data removed]"
    }
   },
   "cell_type": "markdown",
   "id": "6b55bbc6-cdc9-4b09-b97c-fc022f461fad",
   "metadata": {},
   "source": [
    "### Rotation matrix, continued\n",
    "  - >To generalize our results in 2D to any $x_i \\in R^d$ where $d$ is even,\n",
    "    >we divide the d-dimension space into d/2 sub-spaces and combine them in the merit of the linearity of the inner product, turning $f_{q,k}$ into:\n",
    "  - $\\displaystyle f_{(q, k)}(x_m, m) = \\displaystyle R^{d}_{\\theta,m} W_{(q,k)} x_m$ (eqn 14)\n",
    "  - This the required matrix $R$\n",
    "    $\\begin{pmatrix}\n",
    "      cos(m\\theta_1) & -sin(m\\theta_1) & 0 & 0 & ... & 0 & 0\\\\\n",
    "      sin(m\\theta_1) & con(m\\theta_1) & 0 & 0 & ... & 0 & 0\\\\\n",
    "       0 & 0 & cos(m\\theta_2) & -sin(m\\theta_2) & ... & 0 & 0\\\\\n",
    "       0 & 0 & sin(m\\theta_2) & cos(m\\theta_2) & ... & 0 & 0\\\\\n",
    "       ... & ... & ... & ... & ... & 0 & 0\\\\\n",
    "       0 & 0 & 0 & 0 & ... & cos(m\\theta_{d]2}) & -sin(m\\theta_{d/2}) \\\\\n",
    "       0 & 0 & 0 & 0 & ... & sin(m\\theta_{d]2}) & cos(m\\theta_{d/2}) \\\\      \n",
    "    \\end{pmatrix}$\n",
    "\n",
    "  - Therefore, the attention formula then becomes $q^T_m k_n = (R^d_{\\theta,m} W_q x_m)^T (R^d_{\\theta,n} W_k x_n) = x^T W_qR^d_{\\theta,n-m} W_k x_n$ (eqn 16)\n",
    "    - where $\\theta_i = 10000^{-2(i-1)/d}, i \\in [1, 2, ..., d/2]$\n",
    "    - $d$ is `nEmbed`\n",
    "    - $m$ and $n$ are the absolute positions of $x_m$ and $x_n$, respectively\n",
    "    - $R^d_{\\theta,m-n} = (R^d_{\\theta,m})^T @ R^d_{\\theta,n}$\n",
    "  - The above matrix is mostly zeros, so we can derive a much more efficient operation to generate the desired rotation.\n",
    "  - ![RotaryPE02.png](attachment:c916dc26-64f8-4472-82b4-5453529a9530.png)\n",
    "  - ![RotaryPE00.png](attachment:7d8755a6-ca0b-4f56-884c-7b22d4e7f43c.png)\n",
    "    - RPE is applied AFTER q and k have been multipled by the W matrix"
   ]
  },
  {
   "cell_type": "markdown",
   "id": "333eddb5-29d3-429e-ae2e-7269c33125bf",
   "metadata": {},
   "source": [
    "### So what happens if we do a dot product of TWO rotated points??"
   ]
  },
  {
   "cell_type": "code",
   "execution_count": null,
   "id": "26e34222-bc29-4bad-b228-6910ada2b1ff",
   "metadata": {},
   "outputs": [],
   "source": [
    "pt = torch.tensor([1.0, 0], dtype=float)\n",
    "m2 = toRAD(15)\n",
    "m3 = rot2d(m2)\n",
    "print(hprt(m3))\n",
    "Rtn = [ pt ]\n",
    "Count = -2\n",
    "Faster = 0"
   ]
  },
  {
   "cell_type": "code",
   "execution_count": null,
   "id": "dc9adade-ebf9-4dd1-b5c1-b8eee91c3162",
   "metadata": {},
   "outputs": [],
   "source": [
    "def setupDeg():\n",
    "  global Rtn, xs, ys, deg, outer, outerIdx, xso, yso, Faster\n",
    "  xs = [ t.tolist()[0] for t in Rtn ]\n",
    "  ys = [ t.tolist()[1] for t in Rtn ]\n",
    "  deg = 15.0 * (len(Rtn)-1)\n",
    "  outer = [ a*b for i,a in enumerate(Rtn) for j,b in enumerate(Rtn[:i+1]) ]\n",
    "  outerIdx = [ (i,j) for i,a in enumerate(Rtn) for j, b in enumerate(Rtn[:i+1]) ] \n",
    "  xso = [ t.tolist()[0] for t in outer ]\n",
    "  yso = [ t.tolist()[1] for t in outer ]\n",
    "  print(f'setup {len(Rtn)=} points, {len(outer)=} dot products')\n",
    "def drawDeg():\n",
    "  global fig, ax, currDot, currPoints, cxs, cys, Count, Faster\n",
    "  global Rtn, xs, ys, deg, outer, outerIdx, xso, yso\n",
    "  currDot = 'None'\n",
    "  fig, ax = plt.subplots()\n",
    "  plt.axis([-1.5, 1.5, -1.5, 1.5])\n",
    "  ax.scatter(xs, ys, c='b', marker='s', label=f'[1.0,0] rotated {deg:.2f} degrees')\n",
    "  if Count == -2:\n",
    "    plt.title( vprt(f'Showing [1.0,0] rotated to {deg} degrees. {len(Rtn)} points shown'))\n",
    "    Count += 1\n",
    "  elif Count == -1:\n",
    "    plt.title(vprt(f'Showing [1.0,0] rotated to {deg}. {len(Rtn)} points shown', f'About to show {len(outerIdx)} dot products'))\n",
    "    Count += 1\n",
    "  elif Count < len(outer):\n",
    "    currDot = outerIdx[Count]\n",
    "    currPoints = Rtn[currDot[0]],Rtn[currDot[1]]\n",
    "    cxs = [ t.tolist()[0] for t in currPoints]\n",
    "    cys = [ t.tolist()[1] for t in currPoints]\n",
    "    ax.scatter(xso[0:Count], yso[0:Count], c='r', marker='o', label='prior dot product')\n",
    "    ax.scatter(xso[Count:Count+1], yso[Count:Count+1], c='g', marker='o', label='current dot product')\n",
    "    ax.scatter(cxs, cys, c='y', marker='s', label=f'current points in dot product')\n",
    "    plt.title(vprt(f'Showing [1.0,0] rotated to {deg} degrees. {len(Rtn)} points shown', \n",
    "                   f'showing {Count+1}/{len(outer)} dot product', \n",
    "                   hprt(a=currPoints[0],b=currPoints[1])))\n",
    "    Count += 1\n",
    "    if Faster:\n",
    "      Count = len(outer)\n",
    "  elif Count == len(outer):\n",
    "    # reached end\n",
    "    plt.title(vprt(f'Showing [1.0,0] rotated to {deg} degrees', f'showed all {len(outerIdx)} dot products', \n",
    "                  f'About to show [1,0] rotated to {deg+15} degree'))\n",
    "    ax.scatter(xso[:Count+1], yso[:Count+1], c='r', marker='o', label='dot product')\n",
    "    Rtn.append(m3 @ Rtn[-1])\n",
    "    Count = -2\n",
    "  ax.axhline(y=0, color='k')\n",
    "  ax.axvline(x=0, color='k')\n",
    "  if len(Rtn) <= 3 and not Faster:\n",
    "    plt.legend()\n",
    "  #fig.set_size_inches(4, 4)\n",
    "  plt.axis('equal')\n",
    "  plt.show()\n",
    "  print(f'{len(Rtn)-1=} {len(outer)=} {Count=} {currDot=}')"
   ]
  },
  {
   "cell_type": "code",
   "execution_count": null,
   "id": "3692d232-a5cd-483d-a820-ef700bab28cc",
   "metadata": {},
   "outputs": [],
   "source": [
    "# run this cell repeatedly!\n",
    "Faster = 1\n",
    "setupDeg()\n",
    "drawDeg()"
   ]
  },
  {
   "cell_type": "markdown",
   "id": "2e49d21b-349d-405e-8704-3fd481438367",
   "metadata": {},
   "source": [
    "### The Hypothesis behind using 2D rotations is:\n",
    " - dot product of 2d rotations preserves some information about where where the original points were\n",
    " - Similarly, subtractions/additions of 2d points preserve some information about the original two points.\n",
    " - Therefore, by perturbing the encoding of the tokens with their relative positions, we hypothesize that the LLM model learns to pick up clues about the spatial positions of the tokens and how they might influence the \"next token\" decision.\n",
    "### We really don't know **WHY** Positional Encoding works.\n",
    "### We also don't know why Rotary PE is better than normal PE.\n",
    "### We also don't understand why we need to perturb different points of the token embedding differently than other parts of the embedding, for the **same** token"
   ]
  },
  {
   "cell_type": "markdown",
   "id": "83d42ff3-8393-4da8-a7bc-faed637b2195",
   "metadata": {},
   "source": [
    "### How is it actually coded up in LLMs?"
   ]
  },
  {
   "cell_type": "code",
   "execution_count": null,
   "id": "fdfb0ffa-75b4-4460-88cb-f064f6607bb1",
   "metadata": {
    "scrolled": true
   },
   "outputs": [],
   "source": [
    "# https://pytorch.org/docs/stable/generated/torch.outer.html\n",
    "v1 = torch.arange(1., 5.)\n",
    "v2 = torch.arange(1., 4.)\n",
    "v3 = torch.outer(v1, v2)\n",
    "v3a = v1.unsqueeze(1) @ v2.unsqueeze(0)\n",
    "# v1 (n) -> (n,1), v2 (m) -> (1,m) --> (n,m)\n",
    "print(hprt(Shapes(v1=v1, v2=v2, v3=v3, v3a=v3a)))"
   ]
  },
  {
   "cell_type": "code",
   "execution_count": null,
   "id": "1226f1d6-ed9b-4dfc-9570-99425041ef8f",
   "metadata": {
    "scrolled": true
   },
   "outputs": [],
   "source": [
    "# https://pytorch.org/docs/stable/generated/torch.polar.html\n",
    "import numpy as np\n",
    "abs = torch.tensor([1, 1, 1, 1], dtype=torch.float64)\n",
    "# note: pi/4 == 45 degrees!\n",
    "angle = torch.tensor([np.pi / 2, np.pi / 4, 5*(np.pi / 4), np.pi/6], dtype=torch.float64)\n",
    "z = torch.polar(abs, angle)\n",
    "print(printTensors(abs=abs, angle=angle, z=z))"
   ]
  },
  {
   "cell_type": "code",
   "execution_count": null,
   "id": "a97f826a-f6f7-4c20-aa58-a42a7a36bb4f",
   "metadata": {},
   "outputs": [],
   "source": [
    "# https://pytorch.org/docs/stable/generated/torch.ones_like.html\n",
    "# https://pytorch.org/docs/stable/generated/torch.empty.html#torch-empty\n",
    "input = torch.empty(2, 3)\n",
    "output = torch.ones_like(input)\n",
    "print(Shapes(input=input, output=output))"
   ]
  },
  {
   "cell_type": "code",
   "execution_count": null,
   "id": "a3c8649f-93b0-47db-8b1e-99cf0784542f",
   "metadata": {
    "scrolled": true
   },
   "outputs": [],
   "source": [
    "# https://pytorch.org/docs/stable/generated/torch.view_as_complex.html\n",
    "# https://pytorch.org/docs/stable/generated/torch.view_as_real.html\n",
    "K = torch.arange(16).view(2,2,2,-1).float()\n",
    "C = torch.view_as_complex(K)\n",
    "D = torch.view_as_real(C)\n",
    "print(vprt(Shapes(K=K, C=C, D=D)))"
   ]
  },
  {
   "cell_type": "markdown",
   "id": "fa12ee45-0f5f-4adf-a593-11b663bb886d",
   "metadata": {},
   "source": [
    "### The following code is adopted from working Llama3\n",
    "  - `precompute_theta_pos_frequencies()` is called before the LLM actually examines any tokens\n",
    "  - `apply_rotary_embedding()` is called from the Attention Layer,\n",
    "  - input tensor `x` is of shape $(B, seqLen, nEmbed)$"
   ]
  },
  {
   "cell_type": "code",
   "execution_count": null,
   "id": "0f02f70c-e863-4d8b-8dac-ffb116a5ec59",
   "metadata": {},
   "outputs": [],
   "source": [
    "def precompute_theta_pos_frequencies(head_dim: int, seq_len: int, theta: float = 10000.0):\n",
    "  # As written in the paragraph 3.2.2 of the paper\n",
    "  # >> In order to generalize our results in 2D to any xi ∈ Rd where **d is even**, [...]\n",
    "  assert head_dim % 2 == 0, \"Dimension must be divisible by 2\"\n",
    "  # Build the theta parameter\n",
    "  # According to the formula theta_i = 10000^(-2(i-1)/dim) for i = [1, 2, ... dim/2]\n",
    "  # Shape: (Head_Dim / 2)\n",
    "  theta_numerator = torch.arange(0, head_dim, 2).float()\n",
    "  # Shape: (Head_Dim / 2)\n",
    "  theta = 1.0 / (theta ** (theta_numerator / head_dim)) # (Dim / 2)\n",
    "  # Construct the positions (the \"m\" parameter)\n",
    "  # Shape: (Seq_Len)\n",
    "  m = torch.arange(seq_len)\n",
    "  # Multiply each theta by each position using the outer product.\n",
    "  # Shape: (Seq_Len) outer_product* (Head_Dim / 2) -> (Seq_Len, Head_Dim / 2)\n",
    "  freqs = torch.outer(m, theta).float()\n",
    "  # We can compute complex numbers in the polar form c = R * exp(m * theta), where R = 1 as follows:\n",
    "  # (Seq_Len, Head_Dim / 2) -> (Seq_Len, Head_Dim / 2)\n",
    "  freqs_complex = torch.polar(torch.ones_like(freqs), freqs)\n",
    "  return freqs_complex, freqs, m, theta, theta_numerator\n",
    "\n",
    "def apply_rotary_embeddings(x: torch.Tensor, freqs_complex: torch.Tensor):\n",
    "  # Separate the last dimension pairs of two values, representing the real and imaginary parts of the complex number\n",
    "  # Two consecutive values will become a single complex number\n",
    "  # (B, Seq_Len, H, Head_Dim) -> (B, Seq_Len, H, Head_Dim/2)\n",
    "  x_complex = torch.view_as_complex(x.float().reshape(*x.shape[:-1], -1, 2))\n",
    "  # Reshape the freqs_complex tensor to match the shape of the x_complex tensor. \n",
    "  # So we need to add the batch dimension and the head dimension\n",
    "  # (Seq_Len, Head_Dim/2) --> (1, Seq_Len, 1, Head_Dim/2)\n",
    "  freqs_complex = freqs_complex.unsqueeze(0).unsqueeze(2)\n",
    "  # Multiply each complex number in the x_complex tensor by the corresponding complex number in the freqs_complex tensor\n",
    "  # Which results in the rotation of the complex number as shown in the Figure 1 of the paper\n",
    "  # (B, Seq_Len, H, Head_Dim/2) * (1, Seq_Len, 1, Head_Dim/2) = (B, Seq_Len, H, Head_Dim/2)\n",
    "  print(f'{list(x_complex.shape)} @ {freqs_complex.shape}')\n",
    "  x_rotated = x_complex * freqs_complex\n",
    "  # Convert the complex number back to the real number\n",
    "  # (B, Seq_Len, H, Head_Dim/2) -> (B, Seq_Len, H, Head_Dim/2, 2)\n",
    "  x_out = torch.view_as_real(x_rotated)\n",
    "  # (B, Seq_Len, H, Head_Dim/2, 2) -> (B, Seq_Len, H, Head_Dim)\n",
    "  x_out = x_out.reshape(*x.shape)\n",
    "  return x_out.type_as(x)"
   ]
  },
  {
   "cell_type": "code",
   "execution_count": null,
   "id": "5c3ef01b-3afb-491b-b1d3-135e4c5225d6",
   "metadata": {},
   "outputs": [],
   "source": [
    "nEmbed = 8\n",
    "seqLen = 6\n",
    "nHeads = 1\n",
    "nBatch = 1\n",
    "headDim = nEmbed // nHeads "
   ]
  },
  {
   "cell_type": "code",
   "execution_count": null,
   "id": "b0c3b5be-240c-4907-a8b7-d01006304226",
   "metadata": {},
   "outputs": [],
   "source": [
    "PreComputed = precompute_theta_pos_frequencies(headDim, seqLen)\n",
    "freqs_complex, freqs, m, theta, theta_numerator = PreComputed"
   ]
  },
  {
   "cell_type": "code",
   "execution_count": null,
   "id": "1d1b3e4b-b116-479d-ab62-e438d7db921e",
   "metadata": {
    "scrolled": true
   },
   "outputs": [],
   "source": [
    "print(vprt(Shapes(theta_numerator=theta_numerator), Shapes(theta=theta), Shapes(m=m), Shapes(freqs=freqs), Shapes(freqsC=freqs_complex)))"
   ]
  },
  {
   "cell_type": "code",
   "execution_count": null,
   "id": "e19c148d-3ef1-433f-8b3d-24b8ec3ea612",
   "metadata": {},
   "outputs": [],
   "source": [
    "print(printTensorsAll(theta_numerator=theta_numerator))"
   ]
  },
  {
   "cell_type": "markdown",
   "id": "3484b306-8683-4fd9-9700-e7b04139fb75",
   "metadata": {},
   "source": [
    "# x0 is a fake embedding vector for some token, with special values to see what effect RPE has"
   ]
  },
  {
   "cell_type": "code",
   "execution_count": null,
   "id": "f4185f87-b2e1-4cea-8ba5-e1badc012b92",
   "metadata": {},
   "outputs": [],
   "source": [
    "x00 = torch.tensor([1, 0], dtype=torch.float)\n",
    "x0 = torch.cat([x00, x00, x00, x00])"
   ]
  },
  {
   "cell_type": "code",
   "execution_count": null,
   "id": "a2d4f2d4-b067-45f4-bb43-a0781c5e0b4b",
   "metadata": {},
   "outputs": [],
   "source": [
    "print(printTensors(x0=x0))"
   ]
  },
  {
   "cell_type": "code",
   "execution_count": null,
   "id": "15937d80-2c1b-42b2-abb9-e8866f7bc872",
   "metadata": {},
   "outputs": [],
   "source": [
    "# (B, seqLen, H, headDim)\n",
    "# or (1, 6, 1, 8)\n",
    "x = torch.stack([x0]*seqLen).unsqueeze(0).unsqueeze(2)\n",
    "print(printTensors(x=x))"
   ]
  },
  {
   "cell_type": "markdown",
   "id": "f58ca836-efcc-42f2-9fc1-4b57758c4bef",
   "metadata": {},
   "source": [
    "### The above stack and unsqueeze is needed because the above  apply_rotary_embeddings() is found in the attention layer.\n",
    "  - need to take into account $(B, seqLen, H, HeadDim)$"
   ]
  },
  {
   "cell_type": "code",
   "execution_count": null,
   "id": "698c7f81-763d-433b-aeaf-0c87c7bbe779",
   "metadata": {},
   "outputs": [],
   "source": [
    "x.shape"
   ]
  },
  {
   "cell_type": "code",
   "execution_count": null,
   "id": "d0f10668-3f86-4237-86e7-d9c35df70415",
   "metadata": {},
   "outputs": [],
   "source": [
    "x1 = x.float().reshape(*x.shape[:-1], -1, 2)\n",
    "x_complex = torch.view_as_complex(x1)"
   ]
  },
  {
   "cell_type": "code",
   "execution_count": null,
   "id": "cf11268a-5636-4360-9422-1a783adeb1c4",
   "metadata": {},
   "outputs": [],
   "source": [
    "print(printTensors(x0=x0.view(-1,2), x=x, x1=x1, x_complex=x_complex))"
   ]
  },
  {
   "cell_type": "code",
   "execution_count": null,
   "id": "62155381-a5d0-4c1d-a281-9e532a34e411",
   "metadata": {},
   "outputs": [],
   "source": [
    "f2 = freqs_complex.unsqueeze(0).unsqueeze(2)\n",
    "print(vprt(printTensors(freqs_complex=freqs_complex), printTensors(f2=f2)))"
   ]
  },
  {
   "cell_type": "code",
   "execution_count": null,
   "id": "b29932c4-fb2b-484f-9ace-9e3d2443959a",
   "metadata": {},
   "outputs": [],
   "source": [
    "y = apply_rotary_embeddings(x, freqs_complex)"
   ]
  },
  {
   "cell_type": "code",
   "execution_count": null,
   "id": "4ec5eccc-a881-4c12-bde6-dbe856a79db7",
   "metadata": {},
   "outputs": [],
   "source": [
    "print(hprt(y=y.squeeze(), x=x.squeeze()))"
   ]
  },
  {
   "cell_type": "code",
   "execution_count": null,
   "id": "87ab337c-8ca6-4adf-957f-12c2694a0d60",
   "metadata": {},
   "outputs": [],
   "source": [
    "y1 = y.squeeze()"
   ]
  },
  {
   "cell_type": "code",
   "execution_count": null,
   "id": "0d7233f7-7f37-4f6c-87d1-7eff23a36500",
   "metadata": {},
   "outputs": [],
   "source": [
    "PT = 0\n",
    "r = 0\n",
    "def drawRPE(y, x0):\n",
    "  global fig, ax, PT, r\n",
    "  seqLen,nEmbed = y.shape\n",
    "  assert nEmbed == x0.shape[0]   \n",
    "  assert nEmbed % 2 == 0\n",
    "  nPoints = nEmbed // 2\n",
    "  if r >= seqLen:\n",
    "    r = 0\n",
    "    PT = 0\n",
    "    return\n",
    "  # for each seqLen\n",
    "  orig = x0.view(-1,2)\n",
    "  repl = y[r].view(-1,2)\n",
    "  fig, ax = plt.subplots()\n",
    "  plt.axis([-1.5, 1.5, -1.5, 1.5])\n",
    "  ax.axhline(y=0, color='k')\n",
    "  ax.axvline(x=0, color='k')\n",
    "  if PT < nPoints:\n",
    "    origPT = orig[PT]\n",
    "    replPT = repl[PT]\n",
    "    oxs = orig[:, 0]\n",
    "    oys = orig[:, 1]\n",
    "    rxs = repl[:, 0]\n",
    "    rys = repl[:, 1]\n",
    "    assert origPT[0] == oxs[PT] and origPT[1] == oys[PT]\n",
    "    plt.title(hprt(f'row {r}, point {PT}', ORIG=origPT, REPL=replPT))\n",
    "    ax.scatter(oxs[PT], oys[PT], c='r', marker='o', label='original')\n",
    "    ax.scatter(rxs[PT], rys[PT], c='g', marker='s', label='rotated')\n",
    "    PT += 1\n",
    "  else:\n",
    "    plt.title(f'showed row {r}. abouto to show row {r+1}')\n",
    "    r += 1\n",
    "    PT = 0"
   ]
  },
  {
   "cell_type": "code",
   "execution_count": null,
   "id": "8287f365-fa58-4780-85ab-99ca45c9121e",
   "metadata": {},
   "outputs": [],
   "source": [
    "drawRPE(y1, x0)"
   ]
  },
  {
   "cell_type": "code",
   "execution_count": null,
   "id": "2425da69-4f57-4903-a4a6-2a18b6265b76",
   "metadata": {},
   "outputs": [],
   "source": [
    "nPoints = 360 // 15\n",
    "nEmbed = 2 * nPoints\n",
    "seqLen = 8"
   ]
  },
  {
   "cell_type": "code",
   "execution_count": null,
   "id": "09750049-cfe5-4bb3-a770-45d1eb798e7c",
   "metadata": {},
   "outputs": [],
   "source": [
    "nHeads = 1\n",
    "nBatch = 1\n",
    "headDim = nEmbed // nHeads \n",
    "# using only one head!"
   ]
  },
  {
   "cell_type": "code",
   "execution_count": null,
   "id": "6df44744-fd32-42ea-90b3-9754d28fdff9",
   "metadata": {},
   "outputs": [],
   "source": [
    "original = torch.tensor([1,0]).double()"
   ]
  },
  {
   "cell_type": "code",
   "execution_count": null,
   "id": "fa7093de-8a2a-43a5-bad7-46c1a5ae23f4",
   "metadata": {},
   "outputs": [],
   "source": [
    "original.shape"
   ]
  },
  {
   "cell_type": "code",
   "execution_count": null,
   "id": "4ac1f579-34d1-45e3-98e0-665b300a293a",
   "metadata": {},
   "outputs": [],
   "source": [
    "# x0 = torch.stack([ rot2d(toRAD(15*k)) @ original for k in range(nPoints) ]).float()"
   ]
  },
  {
   "cell_type": "code",
   "execution_count": null,
   "id": "d209672f-68b8-4962-8b44-7042bfc5095c",
   "metadata": {},
   "outputs": [],
   "source": [
    "x0 = torch.stack( [original for k in range(nPoints) ]).float()"
   ]
  },
  {
   "cell_type": "code",
   "execution_count": null,
   "id": "a86cddaa-2c43-473a-b6a5-4e95808aec39",
   "metadata": {},
   "outputs": [],
   "source": [
    "x0.shape"
   ]
  },
  {
   "cell_type": "code",
   "execution_count": null,
   "id": "5fb8acdb-3b33-4164-8e5d-d3645f0e4f5f",
   "metadata": {},
   "outputs": [],
   "source": [
    "x1 = torch.stack([x0.view(-1)]*seqLen).unsqueeze(0).unsqueeze(2)\n",
    "x1.shape"
   ]
  },
  {
   "cell_type": "code",
   "execution_count": null,
   "id": "cfd8bd45-0200-4262-8a29-e60f9ce879dd",
   "metadata": {},
   "outputs": [],
   "source": [
    "x2 = x1.unsqueeze(0).unsqueeze(2)"
   ]
  },
  {
   "cell_type": "code",
   "execution_count": null,
   "id": "cb49df9d-b02e-4cfe-a50c-f01f2bacf2f7",
   "metadata": {},
   "outputs": [],
   "source": [
    "x2.shape"
   ]
  },
  {
   "cell_type": "code",
   "execution_count": null,
   "id": "26bc1526-ed0e-4b26-8c61-158aed2bb107",
   "metadata": {},
   "outputs": [],
   "source": [
    "PreComputed = precompute_theta_pos_frequencies(headDim, seqLen)\n",
    "freqs_complex, freqs, m, theta, theta_numerator = PreComputed"
   ]
  },
  {
   "cell_type": "code",
   "execution_count": null,
   "id": "18c6c069-fa83-4299-bccb-dedeb99905ae",
   "metadata": {},
   "outputs": [],
   "source": [
    "y = apply_rotary_embeddings(x2, freqs_complex)"
   ]
  },
  {
   "cell_type": "code",
   "execution_count": null,
   "id": "1c052b57-8130-4b61-8962-612cd9ee60e5",
   "metadata": {},
   "outputs": [],
   "source": [
    "y1 = y.squeeze()"
   ]
  },
  {
   "cell_type": "code",
   "execution_count": null,
   "id": "0463199e-ae8b-4a74-97a0-f8c0f78a026e",
   "metadata": {},
   "outputs": [],
   "source": [
    "PT = 0\n",
    "r = 0"
   ]
  },
  {
   "cell_type": "code",
   "execution_count": null,
   "id": "1e1cf4fa-3631-4f08-af83-814e468763c8",
   "metadata": {},
   "outputs": [],
   "source": [
    "x0.shape"
   ]
  },
  {
   "cell_type": "code",
   "execution_count": null,
   "id": "927aa051-7ad7-404c-b5e4-52a30b9ee120",
   "metadata": {},
   "outputs": [],
   "source": [
    "drawRPE(y1, x0.view(-1))"
   ]
  }
 ],
 "metadata": {
  "kernelspec": {
   "display_name": "Python 3 (ipykernel)",
   "language": "python",
   "name": "python3"
  },
  "language_info": {
   "codemirror_mode": {
    "name": "ipython",
    "version": 3
   },
   "file_extension": ".py",
   "mimetype": "text/x-python",
   "name": "python",
   "nbconvert_exporter": "python",
   "pygments_lexer": "ipython3",
   "version": "3.10.14"
  }
 },
 "nbformat": 4,
 "nbformat_minor": 5
}
